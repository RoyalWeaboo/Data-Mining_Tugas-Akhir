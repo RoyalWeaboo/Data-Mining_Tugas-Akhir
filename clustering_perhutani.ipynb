{
  "nbformat": 4,
  "nbformat_minor": 0,
  "metadata": {
    "colab": {
      "provenance": [],
      "authorship_tag": "ABX9TyMArwqEj6FsHSkAodaDXp/M",
      "include_colab_link": true
    },
    "kernelspec": {
      "name": "python3",
      "display_name": "Python 3"
    },
    "language_info": {
      "name": "python"
    }
  },
  "cells": [
    {
      "cell_type": "markdown",
      "metadata": {
        "id": "view-in-github",
        "colab_type": "text"
      },
      "source": [
        "<a href=\"https://colab.research.google.com/github/RoyalWeaboo/Data-Mining_Tugas-Akhir/blob/main/clustering_perhutani.ipynb\" target=\"_parent\"><img src=\"https://colab.research.google.com/assets/colab-badge.svg\" alt=\"Open In Colab\"/></a>"
      ]
    },
    {
      "cell_type": "code",
      "source": [
        "import pandas as pd\n",
        "import re\n",
        "from sklearn.cluster import KMeans"
      ],
      "metadata": {
        "id": "fznOzctu9kXZ"
      },
      "execution_count": null,
      "outputs": []
    },
    {
      "cell_type": "code",
      "execution_count": null,
      "metadata": {
        "colab": {
          "base_uri": "https://localhost:8080/"
        },
        "id": "L6if8hc0bTBn",
        "outputId": "d282c6d5-17fb-4f82-aa51-7a15cc22ddcf"
      },
      "outputs": [
        {
          "output_type": "stream",
          "name": "stdout",
          "text": [
            "                                 TPK  Amount Req\n",
            "0             4121101 - TPK CIMANGGU  2281914568\n",
            "1            4121102 - TPK KALIWANGI    23392372\n",
            "2                4121104 - TPK LOANO   145520106\n",
            "3               4121105 - TPK DEMPES   162765744\n",
            "4                4121107 - TPK TALOK  1534798678\n",
            "..                               ...         ...\n",
            "140    4141330 - TPKH HANJUANG TIMUR   427864106\n",
            "141    4141331 - TPKH HANJUANG BARAT    84987116\n",
            "142   4141332 - TPKH HANJUANG TENGAH   336128202\n",
            "143  4141333 - TPKH HANJUANG SELATAN   133272318\n",
            "144         4141334 - TPKH PASIR AWI   561495444\n",
            "\n",
            "[145 rows x 2 columns]\n"
          ]
        }
      ],
      "source": [
        "# Fungsi untuk mengubah data total pembayaran (Rp x.xxx.xxx) menjadi numerik\n",
        "def preprocess_transaction_amount(amount):\n",
        "    amount = re.sub(r'[^\\d.]', '', amount)\n",
        "    amount = amount.replace('.', '')\n",
        "    amount = amount[:-2]\n",
        "    return int(amount)\n",
        "\n",
        "# Membaca dataset\n",
        "data = pd.read_csv('dataset_perhutani.csv', encoding='ISO-8859-1')\n",
        "\n",
        "# Mengubah data total pembayaran menjadi numerik\n",
        "data['Amount Req'] = data['Amount Req'].apply(preprocess_transaction_amount)\n",
        "\n",
        "# Menjumlahkan total seluruh pembayaran di TPK(Tempat Penimbunan Kayu) yang sama\n",
        "total_amount_data = data.groupby(['TPK'], as_index=False)['Amount Req'].sum()\n",
        "\n",
        "# Mengelompokan data yang akan digunakan untuk clustering berdasarkan TPK\n",
        "transaction_amount = total_amount_data['Amount Req']\n",
        "mgr = data.groupby(['TPK'], as_index=False).first()['MGR']\n",
        "tpk = total_amount_data['TPK']\n",
        "\n",
        "# Mengubah MGR & TPK menjadi numerik\n",
        "mgr_encoded, mgr_mapping = pd.factorize(mgr)\n",
        "tpk_encoded, tpk_mapping = pd.factorize(tpk)\n",
        "\n",
        "print(total_amount_data)"
      ]
    },
    {
      "cell_type": "code",
      "source": [
        "print(mgr)\n",
        "print(mgr_encoded)"
      ],
      "metadata": {
        "colab": {
          "base_uri": "https://localhost:8080/"
        },
        "id": "Wnnff4PA_p6f",
        "outputId": "79958388-d569-41c1-ec25-07874b8c6c20"
      },
      "execution_count": null,
      "outputs": [
        {
          "output_type": "stream",
          "name": "stdout",
          "text": [
            "0      MGR PEKALONGAN\n",
            "1      MGR PEKALONGAN\n",
            "2      MGR PEKALONGAN\n",
            "3      MGR PEKALONGAN\n",
            "4      MGR PEKALONGAN\n",
            "            ...      \n",
            "140         MGR BOGOR\n",
            "141         MGR BOGOR\n",
            "142         MGR BOGOR\n",
            "143         MGR BOGOR\n",
            "144         MGR BOGOR\n",
            "Name: MGR, Length: 145, dtype: object\n",
            "[0 0 0 0 0 0 0 0 0 0 0 0 0 0 0 0 0 1 1 1 1 1 1 1 1 1 1 1 1 1 1 1 1 1 1 1 1\n",
            " 1 1 1 2 2 2 2 2 2 2 2 2 2 2 2 2 2 2 2 2 2 2 2 2 3 3 3 3 3 3 3 3 3 3 3 3 3\n",
            " 3 3 3 3 3 4 4 4 4 4 4 4 4 4 4 4 4 4 4 4 4 4 4 5 5 5 5 5 5 5 5 5 5 5 5 5 5\n",
            " 6 6 6 6 6 6 6 6 6 6 6 6 6 6 6 6 6 6 6 6 6 6 6 6 6 6 6 6 6 6 6 6 6 6]\n"
          ]
        }
      ]
    },
    {
      "cell_type": "code",
      "source": [
        "print(tpk)\n",
        "print(tpk_encoded)"
      ],
      "metadata": {
        "colab": {
          "base_uri": "https://localhost:8080/"
        },
        "id": "NqBnHfaU_skx",
        "outputId": "2b8b1d80-6bb5-4655-f2b3-e9b0226cbfac"
      },
      "execution_count": null,
      "outputs": [
        {
          "output_type": "stream",
          "name": "stdout",
          "text": [
            "0               4121101 - TPK CIMANGGU\n",
            "1              4121102 - TPK KALIWANGI\n",
            "2                  4121104 - TPK LOANO\n",
            "3                 4121105 - TPK DEMPES\n",
            "4                  4121107 - TPK TALOK\n",
            "                    ...               \n",
            "140      4141330 - TPKH HANJUANG TIMUR\n",
            "141      4141331 - TPKH HANJUANG BARAT\n",
            "142     4141332 - TPKH HANJUANG TENGAH\n",
            "143    4141333 - TPKH HANJUANG SELATAN\n",
            "144           4141334 - TPKH PASIR AWI\n",
            "Name: TPK, Length: 145, dtype: object\n",
            "[  0   1   2   3   4   5   6   7   8   9  10  11  12  13  14  15  16  17\n",
            "  18  19  20  21  22  23  24  25  26  27  28  29  30  31  32  33  34  35\n",
            "  36  37  38  39  40  41  42  43  44  45  46  47  48  49  50  51  52  53\n",
            "  54  55  56  57  58  59  60  61  62  63  64  65  66  67  68  69  70  71\n",
            "  72  73  74  75  76  77  78  79  80  81  82  83  84  85  86  87  88  89\n",
            "  90  91  92  93  94  95  96  97  98  99 100 101 102 103 104 105 106 107\n",
            " 108 109 110 111 112 113 114 115 116 117 118 119 120 121 122 123 124 125\n",
            " 126 127 128 129 130 131 132 133 134 135 136 137 138 139 140 141 142 143\n",
            " 144]\n"
          ]
        }
      ]
    },
    {
      "cell_type": "code",
      "source": [
        "# Membuat dataframe berdasarkan jumlah pembayaran transaksi\n",
        "features = pd.DataFrame({'transaction_amount': transaction_amount})\n",
        "\n",
        "# Menambahkan MGR dan TPK yang sudah diubah ke numerik\n",
        "features['mgr_encoded'] = mgr_encoded\n",
        "features['tpk_encoded'] = tpk_encoded\n",
        "\n",
        "print(features)"
      ],
      "metadata": {
        "colab": {
          "base_uri": "https://localhost:8080/"
        },
        "id": "TPgoYRyTcqyv",
        "outputId": "3de3e587-d718-4f72-a55d-3ed323f96a19"
      },
      "execution_count": null,
      "outputs": [
        {
          "output_type": "stream",
          "name": "stdout",
          "text": [
            "     transaction_amount  mgr_encoded  tpk_encoded\n",
            "0            2281914568            0            0\n",
            "1              23392372            0            1\n",
            "2             145520106            0            2\n",
            "3             162765744            0            3\n",
            "4            1534798678            0            4\n",
            "..                  ...          ...          ...\n",
            "140           427864106            6          140\n",
            "141            84987116            6          141\n",
            "142           336128202            6          142\n",
            "143           133272318            6          143\n",
            "144           561495444            6          144\n",
            "\n",
            "[145 rows x 3 columns]\n"
          ]
        }
      ]
    },
    {
      "cell_type": "code",
      "source": [
        "# Melakukan Kluster menggunakan KMeans\n",
        "num_clusters = 6\n",
        "kmeans = KMeans(n_clusters=num_clusters)\n",
        "kmeans.fit(features)\n",
        "\n",
        "# Menetapkan label cluster untuk setiap data\n",
        "cluster_labels = kmeans.labels_\n",
        "\n",
        "# Menambahkan label kluster ke dataframe\n",
        "features['cluster_label'] = cluster_labels\n",
        "\n",
        "print(features)"
      ],
      "metadata": {
        "colab": {
          "base_uri": "https://localhost:8080/"
        },
        "id": "6Ql-ndRG-dmc",
        "outputId": "3843c34b-1681-4e5c-ebba-577a9a96d010"
      },
      "execution_count": null,
      "outputs": [
        {
          "output_type": "stream",
          "name": "stdout",
          "text": [
            "     transaction_amount  mgr_encoded  tpk_encoded  cluster_label\n",
            "0            2281914568            0            0              3\n",
            "1              23392372            0            1              0\n",
            "2             145520106            0            2              0\n",
            "3             162765744            0            3              0\n",
            "4            1534798678            0            4              0\n",
            "..                  ...          ...          ...            ...\n",
            "140           427864106            6          140              0\n",
            "141            84987116            6          141              0\n",
            "142           336128202            6          142              0\n",
            "143           133272318            6          143              0\n",
            "144           561495444            6          144              0\n",
            "\n",
            "[145 rows x 4 columns]\n"
          ]
        },
        {
          "output_type": "stream",
          "name": "stderr",
          "text": [
            "/usr/local/lib/python3.10/dist-packages/sklearn/cluster/_kmeans.py:870: FutureWarning: The default value of `n_init` will change from 10 to 'auto' in 1.4. Set the value of `n_init` explicitly to suppress the warning\n",
            "  warnings.warn(\n"
          ]
        }
      ]
    }
  ]
}